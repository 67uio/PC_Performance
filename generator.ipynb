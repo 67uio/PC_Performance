{
 "cells": [
  {
   "cell_type": "code",
   "execution_count": null,
   "id": "46d5f305",
   "metadata": {},
   "outputs": [],
   "source": [
    "import psutil\n",
    "import time \n",
    "import pyodbc\n"
   ]
  },
  {
   "cell_type": "code",
   "execution_count": null,
   "id": "4a05d739",
   "metadata": {},
   "outputs": [],
   "source": [
    "# making conection \n",
    "con=pyodbc.connect('Driver={SQL Server};'\n",
    "                   'Server=MSI;'\n",
    "                   'Database=Lap_Preformans;'\n",
    "                   'Trusted_Connection=yes;')\n",
    "cursor=con.cursor()"
   ]
  },
  {
   "cell_type": "code",
   "execution_count": null,
   "id": "b522b11f",
   "metadata": {},
   "outputs": [],
   "source": [
    "# Generate Data \n",
    "\n",
    "while 1==1:\n",
    "    \n",
    "    # For Cpu\n",
    "    cpu_usage=psutil.cpu_percent()\n",
    "    cpu_interrupts=psutil.cpu_stats()[1]\n",
    "    cpu_calls=psutil.cpu_stats()[3]\n",
    "\n",
    "    \n",
    "    # For memory  psutil.virtual_memory() it returns :\n",
    "    # svmem(total=16993009664, available=1743261696, percent=89.7, used=15249747968, free=1743261696)\n",
    "    memory_usage=psutil.virtual_memory()[2]\n",
    "    memory_free=psutil.virtual_memory()[4]   \n",
    "    memory_used=psutil.virtual_memory()[3]\n",
    "    \n",
    "    \n",
    "    # Net \n",
    "    bytes_sent=psutil.net_io_counters()[0]\n",
    "    bytes_received= psutil.net_io_counters()[1]\n",
    "    \n",
    "    \n",
    "    disK_usage = psutil.disk_usage('/').percent\n",
    "\n",
    "   \n",
    "   \n",
    "   # Push data to database\n",
    "   \n",
    "    cursor.execute(\n",
    "        \n",
    "        '''\n",
    "        INSERT INTO Performance \n",
    "        (Time,cpu_usage,memory_usage,cpu_interrupts,cpu_calls, \n",
    "        memory_used,memory_free,net_bytes_send,net_bytes_received,disk_usage)\n",
    "        VALUES (GETDATE(), ?, ?, ?, ?, ?, ?, ?, ?, ?)\n",
    "        ''',\n",
    "        (cpu_usage, memory_usage, cpu_interrupts, cpu_calls, \n",
    "         memory_used, memory_free,bytes_sent,bytes_received,disK_usage)\n",
    "    \n",
    "    )\n",
    "\n",
    "    con.commit()\n",
    "     \n",
    "    print(str(cpu_usage)+'%') \n",
    "    \n",
    "    time.sleep(0.5)"
   ]
  },
  {
   "cell_type": "code",
   "execution_count": null,
   "id": "e172e057",
   "metadata": {},
   "outputs": [],
   "source": []
  },
  {
   "cell_type": "code",
   "execution_count": null,
   "id": "1f24b87b",
   "metadata": {},
   "outputs": [],
   "source": []
  }
 ],
 "metadata": {
  "kernelspec": {
   "display_name": "first",
   "language": "python",
   "name": "python3"
  },
  "language_info": {
   "codemirror_mode": {
    "name": "ipython",
    "version": 3
   },
   "file_extension": ".py",
   "mimetype": "text/x-python",
   "name": "python",
   "nbconvert_exporter": "python",
   "pygments_lexer": "ipython3",
   "version": "3.11.10"
  }
 },
 "nbformat": 4,
 "nbformat_minor": 5
}
